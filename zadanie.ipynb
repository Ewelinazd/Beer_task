{
 "cells": [
  {
   "cell_type": "code",
   "execution_count": 1,
   "id": "f4386b6d-54a2-426b-a709-cdd45c14b033",
   "metadata": {},
   "outputs": [],
   "source": [
    "import pandas as pd\n",
    "\n",
    "df = pd.read_csv('/Users/ewelinakuropatwa/Downloads/beer_reviews.csv')"
   ]
  },
  {
   "cell_type": "code",
   "execution_count": 2,
   "id": "17d43008-78db-4941-b4b6-952573d625c7",
   "metadata": {},
   "outputs": [
    {
     "name": "stdout",
     "output_type": "stream",
     "text": [
      "The brewery that produces the strongest beers by abv is Schorschbräu.\n"
     ]
    }
   ],
   "source": [
    "# Which brewery produces the strongest beers by abv ?\n",
    "\n",
    "brewery_abv = df.groupby('brewery_name')['beer_abv'].mean()\n",
    "\n",
    "strongest_brewery = brewery_abv.idxmax()\n",
    "\n",
    "print(f\"The brewery that produces the strongest beers by abv is {strongest_brewery}.\")"
   ]
  },
  {
   "cell_type": "code",
   "execution_count": 4,
   "id": "540d9d1e-c823-4a64-a41c-7b0880901848",
   "metadata": {},
   "outputs": [
    {
     "name": "stdin",
     "output_type": "stream",
     "text": [
      "Enter a beer style:  Eisbock\n"
     ]
    },
    {
     "name": "stdout",
     "output_type": "stream",
     "text": [
      "\n",
      "Top 3 beers in the 'Eisbock' style based on average review overall:\n",
      "Mash Eisbock: 4.75\n",
      "Weizen Eisbock: 4.50\n",
      "Schitzengiggles: 4.50\n"
     ]
    }
   ],
   "source": [
    "# - If you had to pick 3 beers to recommend to someone, how would you approach the problem ?\n",
    "# I decided to create an app where someone can choose their favorite beer style, and the app will show the top 3 beers with the\n",
    "# highest average rating for the selected style\n",
    "\n",
    "def get_top_beers(style):\n",
    "    filtered_df = df[df['beer_style'] == style]\n",
    "\n",
    "    top_beers = filtered_df.groupby('beer_name')['review_overall'].mean()\n",
    "    \n",
    "    top_beers = top_beers.sort_values(ascending=False).head(3)\n",
    "    \n",
    "    return top_beers\n",
    "\n",
    "def main():\n",
    "    beer_style = input(\"Enter a beer style: \")\n",
    "    \n",
    "    top_beers = get_top_beers(beer_style)\n",
    "    \n",
    "    if not top_beers.empty:\n",
    "        print(f\"\\nTop 3 beers in the '{beer_style}' style based on average review overall:\")\n",
    "        for beer, rating in top_beers.items():\n",
    "            print(f\"{beer}: {rating:.2f}\")\n",
    "    else:\n",
    "        print(f\"No beers found for the style '{beer_style}'.\")\n",
    "\n",
    "\n",
    "if __name__ == \"__main__\":\n",
    "    main()"
   ]
  },
  {
   "cell_type": "code",
   "execution_count": 7,
   "id": "907d0910-bd4f-4503-a7b2-6bd440b6b0e9",
   "metadata": {},
   "outputs": [
    {
     "name": "stdout",
     "output_type": "stream",
     "text": [
      "review_overall       1.000000\n",
      "review_taste         0.789816\n",
      "review_palate        0.701914\n",
      "review_aroma         0.616013\n",
      "review_appearance    0.501732\n",
      "beer_abv             0.138512\n",
      "Name: review_overall, dtype: float64\n"
     ]
    }
   ],
   "source": [
    "# What are the factors that impacts the quality of beer the most ?\n",
    "# I used corr function to find the highest correlation between review_overall and other factors  \n",
    "\n",
    "correlation = df[['review_overall', 'review_aroma', 'review_appearance', 'review_palate', 'review_taste', 'beer_abv']].corr()\n",
    "\n",
    "# Extract correlations with the review_overall rating\n",
    "correlation_with_overall = correlation['review_overall'].sort_values(ascending=False)\n",
    "\n",
    "print(correlation_with_overall)"
   ]
  },
  {
   "cell_type": "code",
   "execution_count": 9,
   "id": "7fde422a-3166-4890-a99c-ababd486265e",
   "metadata": {},
   "outputs": [
    {
     "name": "stdout",
     "output_type": "stream",
     "text": [
      "                           combined_score\n",
      "beer_name                                \n",
      "Alakef Espresso Stout                 5.0\n",
      "Thornstar                             5.0\n",
      "Five Barrel Thread                    5.0\n",
      "Flagstaff Agassiz Amber               5.0\n",
      "Flour City IPA                        5.0\n",
      "Dry Hopped Abominable Ale             5.0\n",
      "Stone Brew                            5.0\n",
      "Forestpia Dunkel                      5.0\n",
      "Betty's Black Ale                     5.0\n",
      "Bruno                                 5.0\n"
     ]
    }
   ],
   "source": [
    "#I enjoy a beer which aroma and appearance matches the beer style. What beer should I buy ?\n",
    "# I found the highest combined score of these two factors and printed the top 10 beers with this score \n",
    "\n",
    "average_reviews = df.groupby('beer_name')[['review_aroma', 'review_appearance']].mean()\n",
    "\n",
    "average_reviews['combined_score'] = (average_reviews['review_aroma'] + average_reviews['review_appearance']) / 2\n",
    "\n",
    "top_beers_sorted = average_reviews.sort_values(by='combined_score', ascending=False)\n",
    "\n",
    "top_beers_list = top_beers_sorted[['combined_score']]\n",
    "\n",
    "print(top_beers_list.head(10)) "
   ]
  },
  {
   "cell_type": "code",
   "execution_count": null,
   "id": "960b92ea-c642-4d99-b8a1-54b068183a20",
   "metadata": {},
   "outputs": [],
   "source": []
  }
 ],
 "metadata": {
  "kernelspec": {
   "display_name": "Python 3 (ipykernel)",
   "language": "python",
   "name": "python3"
  },
  "language_info": {
   "codemirror_mode": {
    "name": "ipython",
    "version": 3
   },
   "file_extension": ".py",
   "mimetype": "text/x-python",
   "name": "python",
   "nbconvert_exporter": "python",
   "pygments_lexer": "ipython3",
   "version": "3.12.2"
  }
 },
 "nbformat": 4,
 "nbformat_minor": 5
}
